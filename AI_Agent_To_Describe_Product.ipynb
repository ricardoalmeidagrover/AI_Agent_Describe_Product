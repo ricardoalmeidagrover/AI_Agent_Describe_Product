{
  "nbformat": 4,
  "nbformat_minor": 0,
  "metadata": {
    "colab": {
      "provenance": [],
      "authorship_tag": "ABX9TyPhtApzVcEHn5dlW4h8KIry",
      "include_colab_link": true
    },
    "kernelspec": {
      "name": "python3",
      "display_name": "Python 3"
    },
    "language_info": {
      "name": "python"
    }
  },
  "cells": [
    {
      "cell_type": "markdown",
      "metadata": {
        "id": "view-in-github",
        "colab_type": "text"
      },
      "source": [
        "<a href=\"https://colab.research.google.com/github/ricardoalmeidagrover/AI_Agent_Describe_Product/blob/main/AI_Agent_To_Describe_Product.ipynb\" target=\"_parent\"><img src=\"https://colab.research.google.com/assets/colab-badge.svg\" alt=\"Open In Colab\"/></a>"
      ]
    },
    {
      "cell_type": "code",
      "execution_count": null,
      "metadata": {
        "colab": {
          "base_uri": "https://localhost:8080/"
        },
        "id": "DYke_5s3XcAA",
        "outputId": "be416f7d-9449-4922-a748-b1bb4c2877b2"
      },
      "outputs": [
        {
          "output_type": "stream",
          "name": "stdout",
          "text": [
            "\u001b[?25l   \u001b[90m━━━━━━━━━━━━━━━━━━━━━━━━━━━━━━━━━━━━━━━━\u001b[0m \u001b[32m0.0/1.2 MB\u001b[0m \u001b[31m?\u001b[0m eta \u001b[36m-:--:--\u001b[0m\r\u001b[2K   \u001b[91m━━━━━━━━━━━━━━━\u001b[0m\u001b[90m╺\u001b[0m\u001b[90m━━━━━━━━━━━━━━━━━━━━━━━━\u001b[0m \u001b[32m0.5/1.2 MB\u001b[0m \u001b[31m14.8 MB/s\u001b[0m eta \u001b[36m0:00:01\u001b[0m\r\u001b[2K   \u001b[91m━━━━━━━━━━━━━━━━━━━━━━━━━━━━━━━━━━━━━━━\u001b[0m\u001b[91m╸\u001b[0m \u001b[32m1.2/1.2 MB\u001b[0m \u001b[31m23.2 MB/s\u001b[0m eta \u001b[36m0:00:01\u001b[0m\r\u001b[2K   \u001b[90m━━━━━━━━━━━━━━━━━━━━━━━━━━━━━━━━━━━━━━━━\u001b[0m \u001b[32m1.2/1.2 MB\u001b[0m \u001b[31m17.1 MB/s\u001b[0m eta \u001b[36m0:00:00\u001b[0m\n",
            "\u001b[?25h\u001b[?25l   \u001b[90m━━━━━━━━━━━━━━━━━━━━━━━━━━━━━━━━━━━━━━━━\u001b[0m \u001b[32m0.0/240.0 kB\u001b[0m \u001b[31m?\u001b[0m eta \u001b[36m-:--:--\u001b[0m\r\u001b[2K   \u001b[90m━━━━━━━━━━━━━━━━━━━━━━━━━━━━━━━━━━━━━━━━\u001b[0m \u001b[32m240.0/240.0 kB\u001b[0m \u001b[31m17.2 MB/s\u001b[0m eta \u001b[36m0:00:00\u001b[0m\n",
            "\u001b[?25h\u001b[?25l   \u001b[90m━━━━━━━━━━━━━━━━━━━━━━━━━━━━━━━━━━━━━━━━\u001b[0m \u001b[32m0.0/95.2 kB\u001b[0m \u001b[31m?\u001b[0m eta \u001b[36m-:--:--\u001b[0m\r\u001b[2K   \u001b[90m━━━━━━━━━━━━━━━━━━━━━━━━━━━━━━━━━━━━━━━━\u001b[0m \u001b[32m95.2/95.2 kB\u001b[0m \u001b[31m7.1 MB/s\u001b[0m eta \u001b[36m0:00:00\u001b[0m\n",
            "\u001b[?25h\u001b[?25l   \u001b[90m━━━━━━━━━━━━━━━━━━━━━━━━━━━━━━━━━━━━━━━━\u001b[0m \u001b[32m0.0/217.1 kB\u001b[0m \u001b[31m?\u001b[0m eta \u001b[36m-:--:--\u001b[0m\r\u001b[2K   \u001b[90m━━━━━━━━━━━━━━━━━━━━━━━━━━━━━━━━━━━━━━━━\u001b[0m \u001b[32m217.1/217.1 kB\u001b[0m \u001b[31m14.1 MB/s\u001b[0m eta \u001b[36m0:00:00\u001b[0m\n",
            "\u001b[2K   \u001b[90m━━━━━━━━━━━━━━━━━━━━━━━━━━━━━━━━━━━━━━━━\u001b[0m \u001b[32m334.1/334.1 kB\u001b[0m \u001b[31m23.1 MB/s\u001b[0m eta \u001b[36m0:00:00\u001b[0m\n",
            "\u001b[2K   \u001b[90m━━━━━━━━━━━━━━━━━━━━━━━━━━━━━━━━━━━━━━━━\u001b[0m \u001b[32m130.3/130.3 kB\u001b[0m \u001b[31m9.6 MB/s\u001b[0m eta \u001b[36m0:00:00\u001b[0m\n",
            "\u001b[2K   \u001b[90m━━━━━━━━━━━━━━━━━━━━━━━━━━━━━━━━━━━━━━━━\u001b[0m \u001b[32m65.8/65.8 kB\u001b[0m \u001b[31m4.6 MB/s\u001b[0m eta \u001b[36m0:00:00\u001b[0m\n",
            "\u001b[2K   \u001b[90m━━━━━━━━━━━━━━━━━━━━━━━━━━━━━━━━━━━━━━━━\u001b[0m \u001b[32m119.0/119.0 kB\u001b[0m \u001b[31m8.6 MB/s\u001b[0m eta \u001b[36m0:00:00\u001b[0m\n",
            "\u001b[2K   \u001b[90m━━━━━━━━━━━━━━━━━━━━━━━━━━━━━━━━━━━━━━━━\u001b[0m \u001b[32m194.9/194.9 kB\u001b[0m \u001b[31m14.4 MB/s\u001b[0m eta \u001b[36m0:00:00\u001b[0m\n",
            "\u001b[2K   \u001b[90m━━━━━━━━━━━━━━━━━━━━━━━━━━━━━━━━━━━━━━━━\u001b[0m \u001b[32m62.5/62.5 kB\u001b[0m \u001b[31m4.7 MB/s\u001b[0m eta \u001b[36m0:00:00\u001b[0m\n",
            "\u001b[2K   \u001b[90m━━━━━━━━━━━━━━━━━━━━━━━━━━━━━━━━━━━━━━━━\u001b[0m \u001b[32m103.3/103.3 kB\u001b[0m \u001b[31m9.2 MB/s\u001b[0m eta \u001b[36m0:00:00\u001b[0m\n",
            "\u001b[2K   \u001b[90m━━━━━━━━━━━━━━━━━━━━━━━━━━━━━━━━━━━━━━━━\u001b[0m \u001b[32m44.4/44.4 kB\u001b[0m \u001b[31m3.2 MB/s\u001b[0m eta \u001b[36m0:00:00\u001b[0m\n",
            "\u001b[2K   \u001b[90m━━━━━━━━━━━━━━━━━━━━━━━━━━━━━━━━━━━━━━━━\u001b[0m \u001b[32m72.0/72.0 kB\u001b[0m \u001b[31m5.7 MB/s\u001b[0m eta \u001b[36m0:00:00\u001b[0m\n",
            "\u001b[?25h"
          ]
        }
      ],
      "source": [
        "!pip install -q google-genai google-adk"
      ]
    },
    {
      "cell_type": "code",
      "source": [
        "import os\n",
        "from google.colab import userdata\n",
        "\n",
        "os.environ[\"GOOGLE_API_KEY\"] = userdata.get('GOOGLE_API_KEY')"
      ],
      "metadata": {
        "id": "GWP411IZYu7d"
      },
      "execution_count": null,
      "outputs": []
    },
    {
      "cell_type": "code",
      "source": [
        "from google import genai\n",
        "\n",
        "client = genai.Client()"
      ],
      "metadata": {
        "id": "iGrX3dIrYww2"
      },
      "execution_count": null,
      "outputs": []
    },
    {
      "cell_type": "code",
      "source": [
        "from google.adk.agents import Agent\n",
        "from google.adk.runners import Runner\n",
        "from google.adk.sessions import InMemorySessionService\n",
        "from google.adk.tools import google_search\n",
        "from google.genai import types"
      ],
      "metadata": {
        "id": "JTWxdhYgZB4H"
      },
      "execution_count": null,
      "outputs": []
    },
    {
      "cell_type": "code",
      "source": [
        "session_service = InMemorySessionService()"
      ],
      "metadata": {
        "id": "2lnt69TnZMJj"
      },
      "execution_count": null,
      "outputs": []
    },
    {
      "cell_type": "code",
      "source": [
        "async def call_agent(agent: Agent, message_text: str) -> str:\n",
        "    session = await session_service.create_session(app_name=agent.name, user_id=\"user1\")\n",
        "    runner = Runner(agent=agent, app_name=agent.name, session_service=session_service)\n",
        "    content = types.Content(role=\"user\", parts=[types.Part(text=message_text)])\n",
        "\n",
        "    final_response = \"\"\n",
        "    async for event in runner.run_async(user_id=\"user1\", session_id=session.id, new_message=content):\n",
        "        if event.is_final_response():\n",
        "          for part in event.content.parts:\n",
        "            if part.text is not None:\n",
        "              final_response += part.text\n",
        "              final_response += \"\\n\"\n",
        "    return final_response"
      ],
      "metadata": {
        "id": "sKZAJPc4ZQfD"
      },
      "execution_count": null,
      "outputs": []
    },
    {
      "cell_type": "code",
      "source": [
        "for model in client.models.list():\n",
        "    print(model.name)"
      ],
      "metadata": {
        "colab": {
          "base_uri": "https://localhost:8080/"
        },
        "id": "_nUz6sVEZm7V",
        "outputId": "06f66332-e758-4b2a-aaba-d259c5390398"
      },
      "execution_count": null,
      "outputs": [
        {
          "output_type": "stream",
          "name": "stdout",
          "text": [
            "models/embedding-gecko-001\n",
            "models/gemini-1.0-pro-vision-latest\n",
            "models/gemini-pro-vision\n",
            "models/gemini-1.5-pro-latest\n",
            "models/gemini-1.5-pro-001\n",
            "models/gemini-1.5-pro-002\n",
            "models/gemini-1.5-pro\n",
            "models/gemini-1.5-flash-latest\n",
            "models/gemini-1.5-flash-001\n",
            "models/gemini-1.5-flash-001-tuning\n",
            "models/gemini-1.5-flash\n",
            "models/gemini-1.5-flash-002\n",
            "models/gemini-1.5-flash-8b\n",
            "models/gemini-1.5-flash-8b-001\n",
            "models/gemini-1.5-flash-8b-latest\n",
            "models/gemini-1.5-flash-8b-exp-0827\n",
            "models/gemini-1.5-flash-8b-exp-0924\n",
            "models/gemini-2.5-pro-exp-03-25\n",
            "models/gemini-2.5-pro-preview-03-25\n",
            "models/gemini-2.5-flash-preview-04-17\n",
            "models/gemini-2.5-flash-preview-05-20\n",
            "models/gemini-2.5-flash-preview-04-17-thinking\n",
            "models/gemini-2.5-pro-preview-05-06\n",
            "models/gemini-2.0-flash-exp\n",
            "models/gemini-2.0-flash\n",
            "models/gemini-2.0-flash-001\n",
            "models/gemini-2.0-flash-exp-image-generation\n",
            "models/gemini-2.0-flash-lite-001\n",
            "models/gemini-2.0-flash-lite\n",
            "models/gemini-2.0-flash-preview-image-generation\n",
            "models/gemini-2.0-flash-lite-preview-02-05\n",
            "models/gemini-2.0-flash-lite-preview\n",
            "models/gemini-2.0-pro-exp\n",
            "models/gemini-2.0-pro-exp-02-05\n",
            "models/gemini-exp-1206\n",
            "models/gemini-2.0-flash-thinking-exp-01-21\n",
            "models/gemini-2.0-flash-thinking-exp\n",
            "models/gemini-2.0-flash-thinking-exp-1219\n",
            "models/gemini-2.5-flash-preview-tts\n",
            "models/gemini-2.5-pro-preview-tts\n",
            "models/learnlm-2.0-flash-experimental\n",
            "models/gemma-3-1b-it\n",
            "models/gemma-3-4b-it\n",
            "models/gemma-3-12b-it\n",
            "models/gemma-3-27b-it\n",
            "models/gemma-3n-e4b-it\n",
            "models/embedding-001\n",
            "models/text-embedding-004\n",
            "models/gemini-embedding-exp-03-07\n",
            "models/gemini-embedding-exp\n",
            "models/aqa\n",
            "models/imagen-3.0-generate-002\n",
            "models/veo-2.0-generate-001\n",
            "models/gemini-2.5-flash-preview-native-audio-dialog\n",
            "models/gemini-2.5-flash-exp-native-audio-thinking-dialog\n",
            "models/gemini-2.0-flash-live-001\n"
          ]
        }
      ]
    },
    {
      "cell_type": "code",
      "source": [
        "FAST_MODEL = \"gemini-2.5-flash-preview-05-20\"\n",
        "PRO_MODEL = \"gemini-2.5-flash-preview-04-17-thinking\""
      ],
      "metadata": {
        "id": "ong6CaJ2Zw2c"
      },
      "execution_count": null,
      "outputs": []
    },
    {
      "cell_type": "code",
      "source": [
        "##########################################\n",
        "# --- Agent 1: Product finder --- #\n",
        "##########################################\n",
        "\n",
        "async def search_agent(product_name):\n",
        "\n",
        "    agent = Agent(\n",
        "        name=\"search_agent\",\n",
        "        model=FAST_MODEL,\n",
        "        instruction=\"\"\"\n",
        "        You are an search assistent. Your task is to use google search tool (google_search)\n",
        "        to find products in categories like 'phones and tables', 'computers', 'cameras', 'TV and projectors', etc.\n",
        "        Based on the product name, list all product's variants, including EAN (European Article Number) if exists\n",
        "        \"\"\",\n",
        "        description=\"Search agent\",\n",
        "        tools=[google_search]\n",
        "    )\n",
        "\n",
        "    search_agent_input = f\"Product: {product_name}\"\n",
        "\n",
        "    variants = await call_agent(agent, search_agent_input)\n",
        "    return variants"
      ],
      "metadata": {
        "id": "YanrQ78MaUxo"
      },
      "execution_count": null,
      "outputs": []
    },
    {
      "cell_type": "code",
      "source": [
        "################################################\n",
        "# --- Agent 2: Product Assets --- #\n",
        "################################################\n",
        "\n",
        "async def assets_agent(product_name, variants):\n",
        "    agent = Agent(\n",
        "        name=\"assets_agent\",\n",
        "        model=FAST_MODEL,\n",
        "        instruction=\"\"\"\n",
        "        You are a Catalog Manager focused on finding images and videos for a\n",
        "        specific products.\n",
        "        You receive a list of products and uses Google Search (google_search) to\n",
        "        find more images and videos that I can use in a Marketplace landing page.\n",
        "        \"\"\",\n",
        "        description=\"Assets agent\",\n",
        "        tools=[google_search]\n",
        "    )\n",
        "\n",
        "    assets = await call_agent(agent, variants)\n",
        "    return assets"
      ],
      "metadata": {
        "id": "wgf4eKK_hH5c"
      },
      "execution_count": null,
      "outputs": []
    },
    {
      "cell_type": "code",
      "source": [
        "################################################\n",
        "# --- Agent 3: Product specifications --- #\n",
        "################################################\n",
        "\n",
        "async def specifications_agent(product_name, variants):\n",
        "    agent = Agent(\n",
        "        name=\"specifications_agent\",\n",
        "        model=FAST_MODEL,\n",
        "        instruction=\"\"\"\n",
        "        You are a Catalog Manager focused on finding specifications and features\n",
        "        for specific products.\n",
        "        You receive a list of products and uses Google Search (google_search) to\n",
        "        find more specifications and features of each product.\n",
        "        \"\"\",\n",
        "        description=\"Specifications agent\",\n",
        "        tools=[google_search]\n",
        "    )\n",
        "\n",
        "    specifications = await call_agent(agent, variants)\n",
        "    return specifications"
      ],
      "metadata": {
        "id": "3_hWeA-VfVrG"
      },
      "execution_count": null,
      "outputs": []
    },
    {
      "cell_type": "code",
      "source": [
        "################################################\n",
        "# --- Agent 4: Product Content Editor --- #\n",
        "################################################\n",
        "\n",
        "async def content_editor_agent(product_name, variants, assets, specifications):\n",
        "    agent = Agent(\n",
        "        name=\"content_editor_agent\",\n",
        "        model=PRO_MODEL,\n",
        "        instruction=\"\"\"\n",
        "        You are a Content Manager Editor focused on describing the product on\n",
        "        a Marketplace landing page.\n",
        "        You receive a list of product's variants, images and videos,\n",
        "        Create an atracting description, highlight\n",
        "        the main features in bullet points and describe the Technical data.\n",
        "        \"\"\",\n",
        "        description=\"Product Content Editor agent\"\n",
        "    )\n",
        "\n",
        "    content_input = f\"Product: {product_name}\\nVariants: {variants}\\nImages and videos: {assets}\\nSpecifications: {specifications}\"\n",
        "    product_content = await call_agent(agent, variants)\n",
        "    return product_content"
      ],
      "metadata": {
        "id": "6UbTrGRJsH0c"
      },
      "execution_count": null,
      "outputs": []
    },
    {
      "cell_type": "code",
      "source": [
        "import textwrap\n",
        "from IPython.display import display, Markdown\n",
        "\n",
        "def to_markdown(text):\n",
        "  text = text.replace('•', '  *')\n",
        "  return Markdown(textwrap.indent(text, '> ', predicate=lambda _: True))"
      ],
      "metadata": {
        "id": "Nee1aHjdoLZN"
      },
      "execution_count": null,
      "outputs": []
    },
    {
      "cell_type": "code",
      "source": [
        "print(\"🚀 Starting the system to search product details 🚀\\n\")\n",
        "\n",
        "product_name = input(\"❓ Please, type the PRODUCT NAME that you want to find details: \")\n",
        "\n",
        "if not product_name:\n",
        "    print(\"\\nPlease type the product name!\")\n",
        "else:\n",
        "    print(f\"\\Cool! Let's detail the product {product_name}\")\n",
        "\n",
        "    variants = await search_agent(product_name)\n",
        "    print(\"\\n--- 📝 Agent 1 Result (Search) ---\\n\")\n",
        "    display(to_markdown(variants))\n",
        "    print(\"--------------------------------------------------------------\")\n",
        "\n",
        "    assets = await assets_agent(product_name, variants)\n",
        "    print(\"\\n--- 📝 Agent 2 Result: (Assets) ---\\n\")\n",
        "    display(to_markdown(assets))\n",
        "    print(\"--------------------------------------------------------------\")\n",
        "\n",
        "    specifications = await specifications_agent(product_name, variants)\n",
        "    print(\"\\n--- 📝 Agent 3 Result (Specification) ---\\n\")\n",
        "    display(to_markdown(specifications))\n",
        "    print(\"--------------------------------------------------------------\")\n",
        "\n",
        "    product_content = await content_editor_agent(product_name, variants, assets, specifications)\n",
        "    print(\"\\n--- 📝 Agent 4 Result (Content Manager) ---\\n\")\n",
        "    display(to_markdown(product_content))\n",
        "    print(\"--------------------------------------------------------------\")"
      ],
      "metadata": {
        "colab": {
          "base_uri": "https://localhost:8080/",
          "height": 1000
        },
        "id": "chW0kapmoWPP",
        "outputId": "25968a2a-7df8-4ccd-c16a-41bbbcc85e09"
      },
      "execution_count": null,
      "outputs": [
        {
          "output_type": "stream",
          "name": "stdout",
          "text": [
            "🚀 Starting the system to search product details 🚀\n",
            "\n",
            "❓ Please, type the PRODUCT NAME that you want to find details: Microsoft Surface Pro, Copilot+ PC, 13” Touchscreen, Snapdragon® X Plus\n",
            "\\Cool! Let's detail the product Microsoft Surface Pro, Copilot+ PC, 13” Touchscreen, Snapdragon® X Plus\n",
            "\n",
            "--- 📝 Agent 1 Result (Search) ---\n",
            "\n"
          ]
        },
        {
          "output_type": "display_data",
          "data": {
            "text/plain": [
              "<IPython.core.display.Markdown object>"
            ],
            "text/markdown": "> The Microsoft Surface Pro, Copilot+ PC, 13” Touchscreen, featuring the Snapdragon® X Plus processor, is available in several variants, primarily differing in storage capacity and color.\n> \n> Here are some of the product's known variants and their associated EANs (where available):\n> \n> *   **Microsoft Surface Pro, Copilot+ PC, 13”, Snapdragon® X Plus, 16GB RAM, 256GB SSD, Platinum.**\n>     *   EAN: 196388288946\n> *   **Microsoft Surface Pro, Copilot+ PC, 13”, Snapdragon® X Plus, 16GB RAM, 512GB SSD, Black.**\n>     *   EAN: 196388288922\n> *   **Microsoft Surface Pro, Copilot+ PC, 13”, Snapdragon® X Plus, 16GB RAM, 256GB SSD, Device Only (11th Edition), Platinum.**\n>     *   Model Number: ZHX-00001\n> *   **Microsoft Surface Pro, Copilot+ PC, 13”, Snapdragon® X Plus, 16GB RAM, 512GB SSD, Device Only (11th Edition), Black.**\n>     *   Model Number: ZHX00001\n> \n> Other identified specifications across these variants include a 13-inch PixelSense Flow touchscreen with a 2880 x 1920 resolution and up to a 120Hz refresh rate. The Snapdragon® X Plus processor typically features 10 cores (Snapdragon X Plus X1P-64-100). Some configurations may also include an OLED display option. Available colors may include Platinum, Black, Dune, and Sapphire.\n"
          },
          "metadata": {}
        },
        {
          "output_type": "stream",
          "name": "stdout",
          "text": [
            "--------------------------------------------------------------\n",
            "\n",
            "--- 📝 Agent 2 Result: (Assets) ---\n",
            "\n"
          ]
        },
        {
          "output_type": "display_data",
          "data": {
            "text/plain": [
              "<IPython.core.display.Markdown object>"
            ],
            "text/markdown": "> The Microsoft Surface Pro, Copilot+ PC, 13” Touchscreen, featuring the Snapdragon® X Plus processor, is available in various configurations, and a wealth of images and videos are available to showcase its features and design.\n> \n> **General Product Visuals:**\n> \n> You can find numerous images and videos that provide an overall view of the Microsoft Surface Pro, Copilot+ PC, 13”. These often highlight its 2-in-1 design, allowing it to function as both a tablet and a laptop with the addition of a detachable keyboard. The sleek design, thin profile, and the built-in kickstand are commonly featured in promotional and review content. Many visuals showcase the device in various orientations to demonstrate its flexibility.\n> \n> **Key Features and Visual Demonstrations:**\n> \n> *   **Display:** Images and videos frequently emphasize the 13-inch PixelSense Flow touchscreen with its 2880 x 1920 resolution and up to 120Hz refresh rate. Visuals of the optional OLED display are also available, showcasing its vibrant colors and deep blacks.\n> *   **Snapdragon X Plus Processor:** While the processor itself isn't directly visual, many videos discuss its performance and efficiency, often demonstrating the device's speed and responsiveness in various tasks like video editing and multitasking. Some content may show benchmarks or UI fluidity as a result of the powerful NPU with 45 trillion operations per second (TOPS).\n> *   **AI Capabilities (Copilot+ PC):** Videos often highlight the AI-powered features, such as Cocreator for generating images from text prompts, Recall for searching PC history, and Windows Studio Effects for enhanced video calls. Demonstrations of the dedicated Copilot key on the keyboard are also common.\n> *   **Cameras:** The 10.5-megapixel rear-facing camera with autofocus and 4K video support, and the HD front-facing camera with an ultrawide field of view and AI enhancements, are frequently shown in use for photos, video calls, and demonstrations.\n> *   **Connectivity and Ports:** Visuals show the two USB-C®/USB4® ports, supporting charging, data transfer, and DisplayPort 1.4a, as well as the Surface Connect port. The presence of Wi-Fi 7 and optional 5G connectivity is also often mentioned or demonstrated.\n> *   **Accessories:** Many images and videos feature the Surface Pro with its compatible accessories, such as the Surface Pro Flex Keyboard (which can be used attached or detached via Bluetooth), Surface Pro Keyboard, and the Surface Slim Pen (2nd edition).\n> \n> **Color Variants:**\n> \n> Images are available for the various color options:\n> \n> *   **Platinum:** Widely featured in official and review content.\n> *   **Black:** Frequently shown as a core color option.\n> *   **Dune:** Images and product listings confirm its availability.\n> *   **Sapphire:** Images and product listings confirm its availability.\n> *   **Violet/Ocean:** While not explicitly listed in the provided product variants, these colors are mentioned as new options for the Surface Laptop and Surface Pro in some official communications.\n> \n> **Videos:**\n> \n> Numerous video types are available:\n> \n> *   **Official Product Videos:** Microsoft has released official videos showcasing the Surface Pro and its Copilot+ PC features.\n> *   **Unboxing Videos:** Several creators and official channels have produced unboxing videos, providing a first look at the device and its packaging.\n> *   **Reviews and Hands-on:** Many tech reviewers have published in-depth video reviews, testing the device's performance, battery life, AI capabilities, and overall user experience.\n> *   **Feature Demonstrations:** Videos often specifically demonstrate new AI features like Recall, Cocreator, and Live Captions.\n> \n> When searching for specific EANs or model numbers, you can find corresponding product images and specifications on retailer and manufacturer websites.\n"
          },
          "metadata": {}
        },
        {
          "output_type": "stream",
          "name": "stdout",
          "text": [
            "--------------------------------------------------------------\n",
            "\n",
            "--- 📝 Agent 3 Result (Specification) ---\n",
            "\n"
          ]
        },
        {
          "output_type": "display_data",
          "data": {
            "text/plain": [
              "<IPython.core.display.Markdown object>"
            ],
            "text/markdown": "> The Microsoft Surface Pro, Copilot+ PC, 13” Touchscreen, featuring the Snapdragon® X Plus processor (10-core, model X1P-64-100), is a 2-in-1 device designed for portability and AI-accelerated experiences. It is also referred to as the Surface Pro 11th Edition.\n> \n> Here's a detailed breakdown of its specifications and features:\n> \n> **Display:**\n> *   **Screen Size:** 13-inch PixelSense™ Flow touchscreen.\n> *   **Resolution:** 2880 x 1920 pixels (267 PPI).\n> *   **Aspect Ratio:** 3:2.\n> *   **Refresh Rate:** Dynamic refresh rate up to 120Hz.\n> *   **Contrast Ratio:** 1200:1 for LCD, and 1,000,000:1 for OLED.\n> *   **Color Profile:** sRGB and Vivid.\n> *   **Brightness:** SDR: 600 nits maximum (typical) for both LCD and OLED; HDR: 600 nits peak luminance for LCD and 900 nits peak luminance for OLED.\n> *   **Technology:** Features adaptive color, adaptive contrast, auto color management, 10-point multi-touch, Dolby Vision IQ™ support, and Corning® Gorilla® Glass 5.\n> *   **Display Options:** Available with either an LCD or an optional OLED display.\n> \n> **Processor and AI Capabilities:**\n> *   **CPU:** Qualcomm® Snapdragon® X Plus (10-core, model X1P-64-100). Some configurations may also offer the Snapdragon® X Elite (12-core) processor.\n> *   **GPU:** Integrated Qualcomm® Adreno™ GPU.\n> *   **NPU:** Qualcomm® Hexagon™ Neural Processing Unit (NPU) with 45 trillion operations per second (TOPS), enabling AI-powered Copilot+ PC experiences.\n> \n> **Memory and Storage:**\n> *   **RAM:** 16GB LPDDR5x RAM, with options for 32GB RAM also available.\n> *   **Storage:** Removable Gen 4 Solid State Drive (SSD) with capacities including 256GB, 512GB, and 1TB.\n> \n> **Cameras and Audio:**\n> *   **Front Camera:** Quad HD front-facing Surface Studio Camera (1440p) with an ultrawide field of view. It includes Windows Studio Effects like automatic framing, Portrait Blur, Creative Filters, Eye Contact: Teleprompter, and Portrait Light.\n> *   **Rear Camera:** 10 MP Ultra HD rear-facing camera.\n> *   **Audio:** 2W stereo speakers with Dolby® Atmos® and Dual Studio Mics with voice focus.\n> \n> **Ports and Connectivity:**\n> *   **USB Ports:** Two USB-C® / USB4® ports with support for charging, data transfer, DisplayPort 1.4a, and Surface Thunderbolt™ 4 Dock and other accessories.\n> *   **Charging:** Supports fast charging with a minimum 65W power supply via Surface Connect or USB-C.\n> *   **Other Ports:** Surface Pro Keyboard port and Surface Connect port.\n> *   **Wireless:** Wi-Fi 7 (802.11be) and Bluetooth 5.4. Optional 5G connectivity is available, particularly for business models.\n> \n> **Battery Life:**\n> *   Up to 14 hours of local video playback. Some sources indicate up to 20 hours for video playback.\n> \n> **Design and Dimensions:**\n> *   **Dimensions:** 11.3 inches (287 mm) L x 8.2 inches (209 mm) W x 0.37 inches (9.3 mm) H.\n> *   **Weight:** 1.97 lbs (895 g).\n> *   **Material:** Anodized aluminum casing.\n> *   **Kickstand:** Iconic 165-degree fluid kickstand for flexible positioning.\n> \n> **Operating System and Features:**\n> *   **Operating System:** Windows 11 Home.\n> *   **Security:** Enhanced security with Microsoft Pluton TPM 2.0 and Windows Hello face authentication with Enhanced Sign-in security.\n> *   **Copilot+ PC Features:** Includes AI-powered experiences like Recall (search across time for content), Live Captions (understand new languages instantly), and Cocreator (generate artwork from text prompts).\n> *   **Accessories Compatibility:** Compatible with optional Surface keyboards (including the Surface Pro Flex Keyboard) and Surface Slim Pen (sold separately).\n> \n> **Available Colors:**\n> *   Platinum, Black, Dune, and Sapphire.\n"
          },
          "metadata": {}
        },
        {
          "output_type": "stream",
          "name": "stdout",
          "text": [
            "--------------------------------------------------------------\n",
            "\n",
            "--- 📝 Agent 4 Result (Content Manager) ---\n",
            "\n"
          ]
        },
        {
          "output_type": "display_data",
          "data": {
            "text/plain": [
              "<IPython.core.display.Markdown object>"
            ],
            "text/markdown": "> Okay, here is a compelling marketplace product description for the Microsoft Surface Pro, Copilot+ PC with Snapdragon X Plus, based on the information provided.\n> \n> ---\n> \n> **Headline:** Meet the New Microsoft Surface Pro, Copilot+ PC | 13\" Touchscreen | Snapdragon X Plus | Unleash AI-Enhanced Performance & 2-in-1 Versatility\n> \n> **Product Description:**\n> \n> Experience the future of personal computing with the all-new Microsoft Surface Pro, re-imagined as a Copilot+ PC. This incredibly versatile 2-in-1 device is engineered for speed, efficiency, and next-generation AI experiences, powered by the cutting-edge Snapdragon® X Plus processor.\n> \n> Seamlessly transition between a powerful laptop, a creative studio, and a portable tablet. The stunning 13-inch PixelSense Flow touchscreen brings your ideas to life with vibrant colors, sharp detail, and smooth motion, featuring high resolution and a dynamic refresh rate up to 120Hz. Tackle demanding tasks, enjoy immersive entertainment, and create with ease, all while benefiting from exceptional battery life designed to keep pace with your day.\n> \n> With Copilot+ PC capabilities, integrated AI accelerates your workflow, sparks your creativity, and enhances your productivity like never before. From intelligent search and content creation assistance to powerful on-device AI features, the Surface Pro is built for the AI era.\n> \n> Available in elegant finishes like Platinum and Black, with various storage options to suit your needs, the Surface Pro is your ultimate portable powerhouse for work, creation, and play.\n> \n> **Key Features:**\n> \n> *   **Copilot+ PC Intelligence:** Unlock next-level productivity and creativity with dedicated AI acceleration from the Neural Processing Unit (NPU), enabling powerful on-device AI experiences.\n> *   **Powered by Snapdragon® X Plus:** Experience breakthrough performance and incredible efficiency with the advanced 10-core Snapdragon® X Plus processor, designed for demanding tasks and long battery life.\n> *   **Stunning 13\" PixelSense Flow Display:** Immerse yourself in a vibrant, high-resolution (2880 x 1920) touchscreen with a dynamic refresh rate up to 120Hz for silky-smooth visuals. Optional OLED display available for unparalleled contrast and color.\n> *   **Ultimate Versatility:** Effortlessly switch between Laptop, Tablet, and Studio modes with the iconic built-in kickstand and optional keyboard.\n> *   **Speed and Storage:** Multitask with ease thanks to 16GB of high-speed RAM. Store your files, apps, and projects on fast SSD storage (available in 256GB, 512GB, and other options).\n> *   **Designed for Mobility:** A thin, light, and premium design paired with exceptional battery life makes it perfect for on-the-go productivity and entertainment.\n> *   **Premium Finishes:** Choose from sophisticated colors including Platinum and Black (Dune and Sapphire potentially available on some configurations).\n> \n> **Technical Data:**\n> \n> *   **Display:** 13-inch PixelSense Flow Touchscreen\n>     *   Resolution: 2880 x 1920\n>     *   Refresh Rate: Up to 120Hz (Dynamic)\n>     *   Panel Type: LCD / Optional OLED\n> *   **Processor:** Qualcomm® Snapdragon® X Plus (X1P-64-100)\n>     *   CPU Cores: 10\n>     *   Integrated Graphics: Qualcomm® Adreno™ GPU\n>     *   Neural Processing Unit (NPU): Yes, for Copilot+ AI acceleration\n> *   **RAM:** 16GB LPDDR5X (standard on listed configurations)\n> *   **Storage:** Solid State Drive (SSD)\n>     *   Available Capacities: 256GB, 512GB (other options may exist)\n> *   **Operating System:** Windows 11 Home (specific edition may vary by configuration)\n> *   **Cameras:** Front and rear cameras (specific resolution may vary)\n> *   **Audio:** Integrated speakers and microphones\n> *   **Connectivity:** Wi-Fi 7, Bluetooth 5.4, 2x USB-C® ports (type may vary by configuration), Surface Connect port.\n> *   **Color Options (based on variants):** Platinum, Black. (Dune, Sapphire potentially available on some configurations).\n> *   **Dimensions & Weight:** (Specific dimensions and weight vary slightly by configuration - typically ultra-portable)\n> *   **Battery Life:** Long-lasting battery (up to [Manufacturer Estimated Hours] based on typical usage - *Note: Specific hours often provided by manufacturer*)\n> \n> ---\n> \n> **Note:** Accessories such as the Surface Pro Keyboard and Surface Slim Pen are typically sold separately, especially with \"Device Only\" configurations. Available colors and storage options may vary by specific product variant. Please check the variant details (EAN/Model Number) for exact specifications.\n"
          },
          "metadata": {}
        },
        {
          "output_type": "stream",
          "name": "stdout",
          "text": [
            "--------------------------------------------------------------\n"
          ]
        }
      ]
    }
  ]
}